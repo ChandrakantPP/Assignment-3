{
 "cells": [
  {
   "cell_type": "markdown",
   "id": "3ad017a3-b6a4-4c87-abe1-978cd1064afe",
   "metadata": {},
   "source": [
    "Q1. Which keyword is used to create a function? Create a function to return a list of odd numbers in the\n",
    "range of 1 to 25."
   ]
  },
  {
   "cell_type": "markdown",
   "id": "24064b61-5f61-4749-81a4-fef3191b03a7",
   "metadata": {},
   "source": [
    "Ans:- def keyword is used to create function"
   ]
  },
  {
   "cell_type": "code",
   "execution_count": 2,
   "id": "e48ef815-4067-47c4-a426-a33e67f33df5",
   "metadata": {},
   "outputs": [
    {
     "data": {
      "text/plain": [
       "[1, 3, 5, 7, 9, 11, 13, 15, 17, 19, 21, 23]"
      ]
     },
     "execution_count": 2,
     "metadata": {},
     "output_type": "execute_result"
    }
   ],
   "source": [
    "def odd_numbers():\n",
    "    list=[]\n",
    "    for i in range(1,25):\n",
    "        if i%2!=0:\n",
    "            list.append(i)\n",
    "    return list\n",
    "odd_numbers()"
   ]
  },
  {
   "cell_type": "markdown",
   "id": "942c69e0-83e2-4dea-bb5c-344e4ac92c6f",
   "metadata": {},
   "source": [
    "Q2. Why *args and **kwargs is used in some functions? Create a function each for *args and **kwargs to\n",
    "demonstrate their use."
   ]
  },
  {
   "cell_type": "markdown",
   "id": "18d77609-11ee-4eab-a1e0-4e12f7920bfd",
   "metadata": {},
   "source": [
    "Ans: We use args and *kwargs as an argument when we are unsure about the number of arguments to pass in the functions."
   ]
  },
  {
   "cell_type": "code",
   "execution_count": 5,
   "id": "71a1b5e9-01fe-4f98-955c-dacdae71e9af",
   "metadata": {},
   "outputs": [],
   "source": [
    "def test1(*args):\n",
    "    l=[]\n",
    "    for i in args:\n",
    "        if type(i)==list:\n",
    "            l.append(i)\n",
    "    return l"
   ]
  },
  {
   "cell_type": "code",
   "execution_count": 6,
   "id": "6716b1f9-a9d1-49c4-a236-89031472d8b8",
   "metadata": {},
   "outputs": [
    {
     "data": {
      "text/plain": [
       "[[1, 2, 3, 4], [4, 5, 6], [6, 7, 8]]"
      ]
     },
     "execution_count": 6,
     "metadata": {},
     "output_type": "execute_result"
    }
   ],
   "source": [
    "test1(1,2,3,4,[1,2,3,4],\"chandrakant\",[4,5,6],[6,7,8])"
   ]
  },
  {
   "cell_type": "code",
   "execution_count": 7,
   "id": "6678ae4f-a730-4c48-8c56-8084aad7d16d",
   "metadata": {},
   "outputs": [],
   "source": [
    "def test2(**kwargs):\n",
    "    for i in kwargs.keys():\n",
    "        if type(kwargs[i])==list:\n",
    "            return i,kwargs[i]"
   ]
  },
  {
   "cell_type": "code",
   "execution_count": 8,
   "id": "7991faa8-80fc-4af3-9457-d18c3c73a111",
   "metadata": {},
   "outputs": [
    {
     "data": {
      "text/plain": [
       "('c', [1, 2, 3, 4])"
      ]
     },
     "execution_count": 8,
     "metadata": {},
     "output_type": "execute_result"
    }
   ],
   "source": [
    "test2(a=33,b=34,c=[1,2,3,4],d=(\"Dipesh\",\"Chandrakant\"))"
   ]
  },
  {
   "cell_type": "markdown",
   "id": "3b75050e-9988-48a4-aea4-367d73f81a0e",
   "metadata": {},
   "source": [
    "Q3. What is an iterator in python? Name the method used to initialise the iterator object and the method\n",
    "used for iteration. Use these methods to print the first five elements of the given list [2, 4, 6, 8, 10, 12, 14, 16,\n",
    "18, 20]."
   ]
  },
  {
   "cell_type": "markdown",
   "id": "bd0dedc1-1ab1-413e-801a-f0f53aa87069",
   "metadata": {},
   "source": [
    "Ans: Iterators are methods that iterate collections like lists, tuples, etc. Using an iterator method, we can loop through an object and return its elements. The for loop in Python is used to iterate over a sequence of elements, such as a list, tuple, or string. When we use the for loop with an iterator, the loop will automatically iterate over the elements of the iterator until it is exhausted."
   ]
  },
  {
   "cell_type": "code",
   "execution_count": 9,
   "id": "29c4581b-b271-4879-b99a-a7d098c9e16a",
   "metadata": {},
   "outputs": [
    {
     "name": "stdout",
     "output_type": "stream",
     "text": [
      "2\n",
      "4\n",
      "6\n",
      "8\n",
      "10\n"
     ]
    }
   ],
   "source": [
    "list=[2, 4, 6, 8, 10, 12, 14, 16, 18, 20]\n",
    "j=0\n",
    "for i in list:\n",
    "    if j<5:\n",
    "        print(i)\n",
    "        j+=1"
   ]
  },
  {
   "cell_type": "markdown",
   "id": "75d8558a-8889-4828-9bb4-d4db4650da45",
   "metadata": {},
   "source": [
    "Q4. What is a generator function in python? Why yield keyword is used? Give an example of a generator\n",
    "function."
   ]
  },
  {
   "cell_type": "markdown",
   "id": "f01d3381-0884-4746-9bbf-e15fa511ffd7",
   "metadata": {},
   "source": [
    "Ans: A generator function in Python is a special type of function that returns a generator iterator, which can be used to iterate over a sequence of elements. A generator function is defined like a normal function, but instead of using the return statement to return a value, it uses the yield statement. The yield statement is used to produce a value, and the generator function can be resumed from where it left off the next time next() is called on the generator."
   ]
  },
  {
   "cell_type": "code",
   "execution_count": 10,
   "id": "305bc6ea-0156-4f6b-b213-bce5e4ee2463",
   "metadata": {},
   "outputs": [],
   "source": [
    "def test_fib(n):\n",
    "    a,b=0,1\n",
    "    for i in range(n):\n",
    "        yield a\n",
    "        a,b=b, a+b"
   ]
  },
  {
   "cell_type": "code",
   "execution_count": 11,
   "id": "c8d37bf2-84f3-469f-9cb4-0deccb1f27ad",
   "metadata": {},
   "outputs": [
    {
     "name": "stdout",
     "output_type": "stream",
     "text": [
      "0\n",
      "1\n",
      "1\n",
      "2\n",
      "3\n",
      "5\n",
      "8\n",
      "13\n",
      "21\n",
      "34\n",
      "55\n",
      "89\n",
      "144\n",
      "233\n",
      "377\n",
      "610\n",
      "987\n",
      "1597\n",
      "2584\n",
      "4181\n"
     ]
    }
   ],
   "source": [
    "for i in test_fib(20):\n",
    "    print(i)"
   ]
  },
  {
   "cell_type": "markdown",
   "id": "d8143a71-a60c-4230-9db4-43866e630852",
   "metadata": {},
   "source": [
    "Q5. Create a generator function for prime numbers less than 1000. Use the next() method to print the\n",
    "first 20 prime numbers."
   ]
  },
  {
   "cell_type": "code",
   "execution_count": 14,
   "id": "9b53e4c6-e788-47ae-af13-45bcbead2d43",
   "metadata": {},
   "outputs": [
    {
     "name": "stdout",
     "output_type": "stream",
     "text": [
      "2\n",
      "3\n",
      "5\n",
      "7\n",
      "11\n",
      "13\n",
      "17\n",
      "19\n",
      "23\n",
      "29\n",
      "31\n",
      "37\n",
      "41\n",
      "43\n",
      "47\n",
      "53\n",
      "59\n",
      "61\n",
      "67\n",
      "71\n"
     ]
    }
   ],
   "source": [
    "def prime_numbers():\n",
    "    yield 2\n",
    "    primes_numbers_list = [2]\n",
    "    for i in range(3, 1000):\n",
    "        primes = True\n",
    "        for prime in primes_numbers_list:\n",
    "            if i % prime == 0:\n",
    "                primes = False\n",
    "                break\n",
    "        if primes:\n",
    "            primes_numbers_list.append(i)\n",
    "            yield i\n",
    "\n",
    "prime_gen = prime_numbers()\n",
    "for i in range(20):\n",
    "    print(next(prime_gen))"
   ]
  }
 ],
 "metadata": {
  "kernelspec": {
   "display_name": "Python 3 (ipykernel)",
   "language": "python",
   "name": "python3"
  },
  "language_info": {
   "codemirror_mode": {
    "name": "ipython",
    "version": 3
   },
   "file_extension": ".py",
   "mimetype": "text/x-python",
   "name": "python",
   "nbconvert_exporter": "python",
   "pygments_lexer": "ipython3",
   "version": "3.10.8"
  }
 },
 "nbformat": 4,
 "nbformat_minor": 5
}
